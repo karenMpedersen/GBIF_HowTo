{
 "cells": [
  {
   "cell_type": "markdown",
   "id": "04cda1ef",
   "metadata": {},
   "source": [
    "# German Mammals GBIF\n",
    "\n",
    "Using the Data from GBIF to create the list of German Mammals"
   ]
  },
  {
   "cell_type": "code",
   "execution_count": 2,
   "id": "f2514ad1",
   "metadata": {},
   "outputs": [],
   "source": [
    "from pygbif import species as species\n",
    "from pygbif import occurrences as occ"
   ]
  }
 ],
 "metadata": {
  "kernelspec": {
   "display_name": ".venv",
   "language": "python",
   "name": "python3"
  },
  "language_info": {
   "codemirror_mode": {
    "name": "ipython",
    "version": 3
   },
   "file_extension": ".py",
   "mimetype": "text/x-python",
   "name": "python",
   "nbconvert_exporter": "python",
   "pygments_lexer": "ipython3",
   "version": "3.12.3"
  }
 },
 "nbformat": 4,
 "nbformat_minor": 5
}
